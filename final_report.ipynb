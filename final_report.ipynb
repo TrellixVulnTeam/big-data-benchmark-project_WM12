{
 "cells": [
  {
   "cell_type": "markdown",
   "metadata": {},
   "source": [
    "# Final Report - First Project Big Data\n",
    "\n",
    "**Group Name:** HDFS - Hai Da Fare Stasera\n",
    "\n",
    "**Group Members:** Alessio Ligios, Gianluca Visentin\n",
    "\n",
    "## Indice\n",
    "\n",
    "1. **Introduction**\n",
    "    * Purpose of the project\n",
    "    * Structure of the report\n",
    "    \n",
    "2. **Project specifications**\n",
    "    * Datasets\n",
    "        * Structure\n",
    "        * Analysis\n",
    "        * Data augmentation\n",
    "    * Jobs\n",
    "        * Job 1\n",
    "        * Job 2\n",
    "        * Job 3\n",
    "        \n",
    "3. **Planning and development**\n",
    "    * *Map Reduce*\n",
    "        * Job 1\n",
    "        * Job 2\n",
    "        * Job 3\n",
    "    * *Hive*\n",
    "        * Job 1\n",
    "        * Job 2\n",
    "        * Job 3\n",
    "    * *Spark*\n",
    "        * Job 1\n",
    "        * Job 2\n",
    "        * Job 3\n",
    "        \n",
    "4. **Results**\n",
    "    * Job 1\n",
    "    * Job 2\n",
    "    * Job 3\n",
    "    \n",
    "5. **Tests**\n",
    "    * Comparison metrics\n",
    "    * Hardware and Software specifications\n",
    "    * Charts\n",
    "    \n",
    "6. **Conclusions**\n",
    "    * Job 1\n",
    "    * Job 2\n",
    "    * Job 3"
   ]
  },
  {
   "cell_type": "markdown",
   "metadata": {},
   "source": [
    "# 1. Introduction\n"
   ]
  },
  {
   "cell_type": "markdown",
   "metadata": {},
   "source": [
    "## Purpose of the project"
   ]
  },
  {
   "cell_type": "markdown",
   "metadata": {},
   "source": [
    "The aim of the project is to design and implement 3 different jobs, each in MapReduce, Hive and Spark, comparing these three systems on each of them. The comparison is based on the analysis of job execution times both locally and on clusters, on the basis of variable input dimensions."
   ]
  },
  {
   "cell_type": "markdown",
   "metadata": {},
   "source": [
    "## Structure of the report"
   ]
  },
  {
   "cell_type": "markdown",
   "metadata": {},
   "source": [
    "In the second chapter the datasets made available and the jobs to be carried out will be presented.\n",
    "In the third chapter the implementations of the three jobs with the different technologies MapReduce, Hive and Spark will be shown in detail.\n",
    "In the fourth chapter an example of the outputs generated for each of the three jobs will be shown.\n",
    "In the fifth chapter the methodologies adopted to carry out the various comparisons between the technologies and the tests performed will be illustrated.\n",
    "In the sixth and final chapter, the results obtained will be analyzed."
   ]
  },
  {
   "cell_type": "markdown",
   "metadata": {},
   "source": [
    "# 2. Project specifications"
   ]
  },
  {
   "cell_type": "markdown",
   "metadata": {},
   "source": [
    "## Datasets"
   ]
  },
  {
   "cell_type": "markdown",
   "metadata": {},
   "source": [
    "The dataset to be used, available at the course address, is that of daily stock prices for a selection of several thousand stock tickers from NYSE and NASDAQ. In the dataset there are historical stock prices for several thousand unique stock tickers, collected from 1970 to 2018."
   ]
  },
  {
   "cell_type": "markdown",
   "metadata": {},
   "source": [
    "### Structure"
   ]
  },
  {
   "cell_type": "markdown",
   "metadata": {},
   "source": [
    "The datasets are organized as follows:\n",
    "\n",
    "* `historical_stocks_prices.csv`: daily stock prices for a selection of several thousand stock tickers from NYSE and NASDAQ."
   ]
  },
  {
   "cell_type": "markdown",
   "metadata": {},
   "source": [
    "| FIELD NAME | TYPE   | DESCRIPTION              |\n",
    "|------------|--------|--------------------------|\n",
    "| Ticker     | Text   | The symbol for the stock |\n",
    "| Open       | Number | The open price           |\n",
    "| Close      | Number | The close price          |\n",
    "| AdjClose   | Number | The adjusted close price |\n",
    "| Low        | Number | The low price            |\n",
    "| High       | Number | The high price           |\n",
    "| Volume     | Number | The volume               |\n",
    "| Date       | Date   | The date                 |"
   ]
  },
  {
   "cell_type": "markdown",
   "metadata": {},
   "source": [
    "* `historical_stocks.csv`: this file contains information on the companies in the dataset. Attributes include industry, ticker, and sector."
   ]
  },
  {
   "cell_type": "markdown",
   "metadata": {},
   "source": [
    "| FIELD NAME | TYPE | DESCRIPTION                                                                         |\n",
    "|------------|------|-------------------------------------------------------------------------------------|\n",
    "| Ticker     | Text | The symbol for the stock (use this column to link with the stock prices data table) |\n",
    "| Exchange   | Text | The name of the exchange (NYSE, NASDAQ)                                             |\n",
    "| Name       | Text | The name of the company                                                             |\n",
    "| Sector     | Text | The sector of the company                                                           |\n",
    "| Industry   | Text | The industry of the company                                                         |"
   ]
  },
  {
   "cell_type": "markdown",
   "metadata": {},
   "source": [
    "### Analysis"
   ]
  },
  {
   "cell_type": "markdown",
   "metadata": {},
   "source": [
    "In this section the two datasets `historical_stocks.csv` and `historical_stocks_prices.csv` will be analyzed."
   ]
  },
  {
   "cell_type": "code",
   "execution_count": null,
   "metadata": {},
   "outputs": [],
   "source": [
    "# Importing libraries\n",
    "import matplotlib.pyplot as plt\n",
    "import pandas as pd"
   ]
  },
  {
   "cell_type": "code",
   "execution_count": null,
   "metadata": {},
   "outputs": [],
   "source": [
    "HISTORICAL_STOCKS_FILEPATH = 'historical_stocks.csv'\n",
    "HISTORICAL_STOCK_PRICES_FILEPATH = '/historical_stock_prices.csv'\n",
    "\n",
    "hs = pd.read_csv(HISTORICAL_STOCKS_FILEPATH)\n",
    "hsp = pd.read_csv(HISTORICAL_STOCK_PRICES_FILEPATH)"
   ]
  },
  {
   "cell_type": "markdown",
   "metadata": {},
   "source": [
    "* #### `historical_stocks.csv`"
   ]
  },
  {
   "cell_type": "code",
   "execution_count": 11,
   "metadata": {},
   "outputs": [
    {
     "data": {
      "text/plain": [
       "(6460, 5)"
      ]
     },
     "execution_count": 11,
     "metadata": {},
     "output_type": "execute_result"
    }
   ],
   "source": [
    "hs.shape"
   ]
  },
  {
   "cell_type": "code",
   "execution_count": 12,
   "metadata": {},
   "outputs": [
    {
     "data": {
      "text/html": [
       "<div>\n",
       "<style scoped>\n",
       "    .dataframe tbody tr th:only-of-type {\n",
       "        vertical-align: middle;\n",
       "    }\n",
       "\n",
       "    .dataframe tbody tr th {\n",
       "        vertical-align: top;\n",
       "    }\n",
       "\n",
       "    .dataframe thead th {\n",
       "        text-align: right;\n",
       "    }\n",
       "</style>\n",
       "<table border=\"1\" class=\"dataframe\">\n",
       "  <thead>\n",
       "    <tr style=\"text-align: right;\">\n",
       "      <th></th>\n",
       "      <th>ticker</th>\n",
       "      <th>exchange</th>\n",
       "      <th>name</th>\n",
       "      <th>sector</th>\n",
       "      <th>industry</th>\n",
       "    </tr>\n",
       "  </thead>\n",
       "  <tbody>\n",
       "    <tr>\n",
       "      <th>0</th>\n",
       "      <td>PIH</td>\n",
       "      <td>NASDAQ</td>\n",
       "      <td>1347 PROPERTY INSURANCE HOLDINGS, INC.</td>\n",
       "      <td>FINANCE</td>\n",
       "      <td>PROPERTY-CASUALTY INSURERS</td>\n",
       "    </tr>\n",
       "    <tr>\n",
       "      <th>1</th>\n",
       "      <td>PIHPP</td>\n",
       "      <td>NASDAQ</td>\n",
       "      <td>1347 PROPERTY INSURANCE HOLDINGS, INC.</td>\n",
       "      <td>FINANCE</td>\n",
       "      <td>PROPERTY-CASUALTY INSURERS</td>\n",
       "    </tr>\n",
       "    <tr>\n",
       "      <th>2</th>\n",
       "      <td>TURN</td>\n",
       "      <td>NASDAQ</td>\n",
       "      <td>180 DEGREE CAPITAL CORP.</td>\n",
       "      <td>FINANCE</td>\n",
       "      <td>FINANCE/INVESTORS SERVICES</td>\n",
       "    </tr>\n",
       "    <tr>\n",
       "      <th>3</th>\n",
       "      <td>FLWS</td>\n",
       "      <td>NASDAQ</td>\n",
       "      <td>1-800 FLOWERS.COM, INC.</td>\n",
       "      <td>CONSUMER SERVICES</td>\n",
       "      <td>OTHER SPECIALTY STORES</td>\n",
       "    </tr>\n",
       "    <tr>\n",
       "      <th>4</th>\n",
       "      <td>FCCY</td>\n",
       "      <td>NASDAQ</td>\n",
       "      <td>1ST CONSTITUTION BANCORP (NJ)</td>\n",
       "      <td>FINANCE</td>\n",
       "      <td>SAVINGS INSTITUTIONS</td>\n",
       "    </tr>\n",
       "  </tbody>\n",
       "</table>\n",
       "</div>"
      ],
      "text/plain": [
       "  ticker exchange                                    name             sector  \\\n",
       "0    PIH   NASDAQ  1347 PROPERTY INSURANCE HOLDINGS, INC.            FINANCE   \n",
       "1  PIHPP   NASDAQ  1347 PROPERTY INSURANCE HOLDINGS, INC.            FINANCE   \n",
       "2   TURN   NASDAQ                180 DEGREE CAPITAL CORP.            FINANCE   \n",
       "3   FLWS   NASDAQ                 1-800 FLOWERS.COM, INC.  CONSUMER SERVICES   \n",
       "4   FCCY   NASDAQ           1ST CONSTITUTION BANCORP (NJ)            FINANCE   \n",
       "\n",
       "                     industry  \n",
       "0  PROPERTY-CASUALTY INSURERS  \n",
       "1  PROPERTY-CASUALTY INSURERS  \n",
       "2  FINANCE/INVESTORS SERVICES  \n",
       "3      OTHER SPECIALTY STORES  \n",
       "4        SAVINGS INSTITUTIONS  "
      ]
     },
     "execution_count": 12,
     "metadata": {},
     "output_type": "execute_result"
    }
   ],
   "source": [
    "hs.head()"
   ]
  },
  {
   "cell_type": "markdown",
   "metadata": {},
   "source": [
    "This dataset contains 6460 lines and 5 fields"
   ]
  },
  {
   "cell_type": "markdown",
   "metadata": {},
   "source": [
    "Now let's check if null and/or duplicate values are present in this dataset."
   ]
  },
  {
   "cell_type": "code",
   "execution_count": 13,
   "metadata": {},
   "outputs": [
    {
     "data": {
      "text/plain": [
       "True"
      ]
     },
     "execution_count": 13,
     "metadata": {},
     "output_type": "execute_result"
    }
   ],
   "source": [
    "hs.isnull().any().any()"
   ]
  },
  {
   "cell_type": "code",
   "execution_count": 14,
   "metadata": {},
   "outputs": [
    {
     "data": {
      "text/plain": [
       "ticker      False\n",
       "exchange    False\n",
       "name        False\n",
       "sector       True\n",
       "industry     True\n",
       "dtype: bool"
      ]
     },
     "execution_count": 14,
     "metadata": {},
     "output_type": "execute_result"
    }
   ],
   "source": [
    "hs.isnull().any()"
   ]
  },
  {
   "cell_type": "markdown",
   "metadata": {},
   "source": [
    "We therefore note how fields are present, in particular `sector` and `industry` in the second dataset which have null values.\n",
    "Now let's print some records containing null values."
   ]
  },
  {
   "cell_type": "code",
   "execution_count": 15,
   "metadata": {},
   "outputs": [
    {
     "data": {
      "text/html": [
       "<div>\n",
       "<style scoped>\n",
       "    .dataframe tbody tr th:only-of-type {\n",
       "        vertical-align: middle;\n",
       "    }\n",
       "\n",
       "    .dataframe tbody tr th {\n",
       "        vertical-align: top;\n",
       "    }\n",
       "\n",
       "    .dataframe thead th {\n",
       "        text-align: right;\n",
       "    }\n",
       "</style>\n",
       "<table border=\"1\" class=\"dataframe\">\n",
       "  <thead>\n",
       "    <tr style=\"text-align: right;\">\n",
       "      <th></th>\n",
       "      <th>ticker</th>\n",
       "      <th>exchange</th>\n",
       "      <th>name</th>\n",
       "      <th>sector</th>\n",
       "      <th>industry</th>\n",
       "    </tr>\n",
       "  </thead>\n",
       "  <tbody>\n",
       "    <tr>\n",
       "      <th>19</th>\n",
       "      <td>ABP</td>\n",
       "      <td>NASDAQ</td>\n",
       "      <td>ABPRO CORPORATION</td>\n",
       "      <td>NaN</td>\n",
       "      <td>NaN</td>\n",
       "    </tr>\n",
       "    <tr>\n",
       "      <th>42</th>\n",
       "      <td>SQZZ</td>\n",
       "      <td>NASDAQ</td>\n",
       "      <td>ACTIVE ALTS CONTRARIAN ETF</td>\n",
       "      <td>NaN</td>\n",
       "      <td>NaN</td>\n",
       "    </tr>\n",
       "    <tr>\n",
       "      <th>62</th>\n",
       "      <td>ACT</td>\n",
       "      <td>NASDAQ</td>\n",
       "      <td>ADVISORSHARES VICE ETF</td>\n",
       "      <td>NaN</td>\n",
       "      <td>NaN</td>\n",
       "    </tr>\n",
       "    <tr>\n",
       "      <th>100</th>\n",
       "      <td>ABDC</td>\n",
       "      <td>NASDAQ</td>\n",
       "      <td>ALCENTRA CAPITAL CORP.</td>\n",
       "      <td>NaN</td>\n",
       "      <td>NaN</td>\n",
       "    </tr>\n",
       "    <tr>\n",
       "      <th>124</th>\n",
       "      <td>SMCP</td>\n",
       "      <td>NASDAQ</td>\n",
       "      <td>ALPHAMARK ACTIVELY MANAGED SMALL CAP ETF</td>\n",
       "      <td>NaN</td>\n",
       "      <td>NaN</td>\n",
       "    </tr>\n",
       "  </tbody>\n",
       "</table>\n",
       "</div>"
      ],
      "text/plain": [
       "    ticker exchange                                      name sector industry\n",
       "19     ABP   NASDAQ                         ABPRO CORPORATION    NaN      NaN\n",
       "42    SQZZ   NASDAQ                ACTIVE ALTS CONTRARIAN ETF    NaN      NaN\n",
       "62     ACT   NASDAQ                    ADVISORSHARES VICE ETF    NaN      NaN\n",
       "100   ABDC   NASDAQ                    ALCENTRA CAPITAL CORP.    NaN      NaN\n",
       "124   SMCP   NASDAQ  ALPHAMARK ACTIVELY MANAGED SMALL CAP ETF    NaN      NaN"
      ]
     },
     "execution_count": 15,
     "metadata": {},
     "output_type": "execute_result"
    }
   ],
   "source": [
    "hs[hs['sector'].isnull() | hs['industry'].isnull()].head()"
   ]
  },
  {
   "cell_type": "markdown",
   "metadata": {},
   "source": [
    "When implementing the jobs, it will therefore be necessary to take into account ignoring the records containing null `sector` and `industry` values."
   ]
  },
  {
   "cell_type": "code",
   "execution_count": 16,
   "metadata": {},
   "outputs": [
    {
     "data": {
      "text/plain": [
       "False"
      ]
     },
     "execution_count": 16,
     "metadata": {},
     "output_type": "execute_result"
    }
   ],
   "source": [
    "len(hs['ticker']) != hs.shape[0]"
   ]
  },
  {
   "cell_type": "markdown",
   "metadata": {},
   "source": [
    "Dunque non sono presenti valori duplicati per il file `historical_stocks.csv`."
   ]
  },
  {
   "cell_type": "markdown",
   "metadata": {},
   "source": [
    "* #### `historical_stock_prices.csv`"
   ]
  },
  {
   "cell_type": "code",
   "execution_count": 8,
   "metadata": {},
   "outputs": [
    {
     "data": {
      "text/plain": [
       "(20973889, 8)"
      ]
     },
     "execution_count": 8,
     "metadata": {},
     "output_type": "execute_result"
    }
   ],
   "source": [
    "hsp.shape"
   ]
  },
  {
   "cell_type": "markdown",
   "metadata": {},
   "source": [
    "This dataset contains 20973889 lines and 8 fields"
   ]
  },
  {
   "cell_type": "markdown",
   "metadata": {},
   "source": [
    "Now we print a subset of the lines in the `historical_stock_prices.csv` file."
   ]
  },
  {
   "cell_type": "code",
   "execution_count": 9,
   "metadata": {},
   "outputs": [
    {
     "data": {
      "text/html": [
       "<div>\n",
       "<style scoped>\n",
       "    .dataframe tbody tr th:only-of-type {\n",
       "        vertical-align: middle;\n",
       "    }\n",
       "\n",
       "    .dataframe tbody tr th {\n",
       "        vertical-align: top;\n",
       "    }\n",
       "\n",
       "    .dataframe thead th {\n",
       "        text-align: right;\n",
       "    }\n",
       "</style>\n",
       "<table border=\"1\" class=\"dataframe\">\n",
       "  <thead>\n",
       "    <tr style=\"text-align: right;\">\n",
       "      <th></th>\n",
       "      <th>ticker</th>\n",
       "      <th>open</th>\n",
       "      <th>close</th>\n",
       "      <th>adj_close</th>\n",
       "      <th>low</th>\n",
       "      <th>high</th>\n",
       "      <th>volume</th>\n",
       "      <th>date</th>\n",
       "    </tr>\n",
       "  </thead>\n",
       "  <tbody>\n",
       "    <tr>\n",
       "      <th>0</th>\n",
       "      <td>AHH</td>\n",
       "      <td>11.50</td>\n",
       "      <td>11.58</td>\n",
       "      <td>8.493155</td>\n",
       "      <td>11.25</td>\n",
       "      <td>11.68</td>\n",
       "      <td>4633900</td>\n",
       "      <td>2013-05-08</td>\n",
       "    </tr>\n",
       "    <tr>\n",
       "      <th>1</th>\n",
       "      <td>AHH</td>\n",
       "      <td>11.66</td>\n",
       "      <td>11.55</td>\n",
       "      <td>8.471151</td>\n",
       "      <td>11.50</td>\n",
       "      <td>11.66</td>\n",
       "      <td>275800</td>\n",
       "      <td>2013-05-09</td>\n",
       "    </tr>\n",
       "    <tr>\n",
       "      <th>2</th>\n",
       "      <td>AHH</td>\n",
       "      <td>11.55</td>\n",
       "      <td>11.60</td>\n",
       "      <td>8.507822</td>\n",
       "      <td>11.50</td>\n",
       "      <td>11.60</td>\n",
       "      <td>277100</td>\n",
       "      <td>2013-05-10</td>\n",
       "    </tr>\n",
       "    <tr>\n",
       "      <th>3</th>\n",
       "      <td>AHH</td>\n",
       "      <td>11.63</td>\n",
       "      <td>11.65</td>\n",
       "      <td>8.544494</td>\n",
       "      <td>11.55</td>\n",
       "      <td>11.65</td>\n",
       "      <td>147400</td>\n",
       "      <td>2013-05-13</td>\n",
       "    </tr>\n",
       "    <tr>\n",
       "      <th>4</th>\n",
       "      <td>AHH</td>\n",
       "      <td>11.60</td>\n",
       "      <td>11.53</td>\n",
       "      <td>8.456484</td>\n",
       "      <td>11.50</td>\n",
       "      <td>11.60</td>\n",
       "      <td>184100</td>\n",
       "      <td>2013-05-14</td>\n",
       "    </tr>\n",
       "  </tbody>\n",
       "</table>\n",
       "</div>"
      ],
      "text/plain": [
       "  ticker   open  close  adj_close    low   high   volume        date\n",
       "0    AHH  11.50  11.58   8.493155  11.25  11.68  4633900  2013-05-08\n",
       "1    AHH  11.66  11.55   8.471151  11.50  11.66   275800  2013-05-09\n",
       "2    AHH  11.55  11.60   8.507822  11.50  11.60   277100  2013-05-10\n",
       "3    AHH  11.63  11.65   8.544494  11.55  11.65   147400  2013-05-13\n",
       "4    AHH  11.60  11.53   8.456484  11.50  11.60   184100  2013-05-14"
      ]
     },
     "execution_count": 9,
     "metadata": {},
     "output_type": "execute_result"
    }
   ],
   "source": [
    "hsp.head()"
   ]
  },
  {
   "cell_type": "markdown",
   "metadata": {},
   "source": [
    "A preliminary activity to the actual implementation of the work is that of cleaning the data in which there is a presence of any incorrect records (for example containing null values) that could be present in the data set. We check in particular that there are no null values in the `historical_stock_prices.csv` file."
   ]
  },
  {
   "cell_type": "code",
   "execution_count": 10,
   "metadata": {},
   "outputs": [
    {
     "data": {
      "text/plain": [
       "False"
      ]
     },
     "execution_count": 10,
     "metadata": {},
     "output_type": "execute_result"
    }
   ],
   "source": [
    "hsp.isnull().any().any()"
   ]
  },
  {
   "cell_type": "markdown",
   "metadata": {},
   "source": [
    "Therefore there are no null values. Another activity we can carry out is to check that there are no duplicate records, i.e. records that have the same `ticker` and the same date."
   ]
  },
  {
   "cell_type": "code",
   "execution_count": 29,
   "metadata": {},
   "outputs": [
    {
     "data": {
      "text/plain": [
       "False"
      ]
     },
     "execution_count": 29,
     "metadata": {},
     "output_type": "execute_result"
    }
   ],
   "source": [
    "len(hsp.groupby(['ticker', 'date'])) != hsp.shape[0]"
   ]
  },
  {
   "cell_type": "markdown",
   "metadata": {},
   "source": [
    "So there are no duplicate records."
   ]
  },
  {
   "cell_type": "markdown",
   "metadata": {},
   "source": [
    "* #### `historical_stocks.csv` & `historical_stock_prices.csv`"
   ]
  },
  {
   "cell_type": "markdown",
   "metadata": {},
   "source": [
    "Now let's join the two datasets to carry out further analysis activities."
   ]
  },
  {
   "cell_type": "code",
   "execution_count": 17,
   "metadata": {},
   "outputs": [],
   "source": [
    "df = pd.merge(hs, hsp, on = 'ticker')"
   ]
  },
  {
   "cell_type": "code",
   "execution_count": 18,
   "metadata": {},
   "outputs": [
    {
     "data": {
      "text/plain": [
       "(20973889, 12)"
      ]
     },
     "execution_count": 18,
     "metadata": {},
     "output_type": "execute_result"
    }
   ],
   "source": [
    "df.shape"
   ]
  },
  {
   "cell_type": "code",
   "execution_count": 19,
   "metadata": {},
   "outputs": [
    {
     "data": {
      "text/html": [
       "<div>\n",
       "<style scoped>\n",
       "    .dataframe tbody tr th:only-of-type {\n",
       "        vertical-align: middle;\n",
       "    }\n",
       "\n",
       "    .dataframe tbody tr th {\n",
       "        vertical-align: top;\n",
       "    }\n",
       "\n",
       "    .dataframe thead th {\n",
       "        text-align: right;\n",
       "    }\n",
       "</style>\n",
       "<table border=\"1\" class=\"dataframe\">\n",
       "  <thead>\n",
       "    <tr style=\"text-align: right;\">\n",
       "      <th></th>\n",
       "      <th>ticker</th>\n",
       "      <th>exchange</th>\n",
       "      <th>name</th>\n",
       "      <th>sector</th>\n",
       "      <th>industry</th>\n",
       "      <th>open</th>\n",
       "      <th>close</th>\n",
       "      <th>adj_close</th>\n",
       "      <th>low</th>\n",
       "      <th>high</th>\n",
       "      <th>volume</th>\n",
       "      <th>date</th>\n",
       "    </tr>\n",
       "  </thead>\n",
       "  <tbody>\n",
       "    <tr>\n",
       "      <th>0</th>\n",
       "      <td>PIH</td>\n",
       "      <td>NASDAQ</td>\n",
       "      <td>1347 PROPERTY INSURANCE HOLDINGS, INC.</td>\n",
       "      <td>FINANCE</td>\n",
       "      <td>PROPERTY-CASUALTY INSURERS</td>\n",
       "      <td>8.00</td>\n",
       "      <td>7.95</td>\n",
       "      <td>7.95</td>\n",
       "      <td>7.90</td>\n",
       "      <td>8.50</td>\n",
       "      <td>642900</td>\n",
       "      <td>2014-04-01</td>\n",
       "    </tr>\n",
       "    <tr>\n",
       "      <th>1</th>\n",
       "      <td>PIH</td>\n",
       "      <td>NASDAQ</td>\n",
       "      <td>1347 PROPERTY INSURANCE HOLDINGS, INC.</td>\n",
       "      <td>FINANCE</td>\n",
       "      <td>PROPERTY-CASUALTY INSURERS</td>\n",
       "      <td>7.94</td>\n",
       "      <td>8.16</td>\n",
       "      <td>8.16</td>\n",
       "      <td>7.90</td>\n",
       "      <td>8.29</td>\n",
       "      <td>228400</td>\n",
       "      <td>2014-04-02</td>\n",
       "    </tr>\n",
       "    <tr>\n",
       "      <th>2</th>\n",
       "      <td>PIH</td>\n",
       "      <td>NASDAQ</td>\n",
       "      <td>1347 PROPERTY INSURANCE HOLDINGS, INC.</td>\n",
       "      <td>FINANCE</td>\n",
       "      <td>PROPERTY-CASUALTY INSURERS</td>\n",
       "      <td>8.29</td>\n",
       "      <td>8.39</td>\n",
       "      <td>8.39</td>\n",
       "      <td>8.05</td>\n",
       "      <td>8.40</td>\n",
       "      <td>105000</td>\n",
       "      <td>2014-04-03</td>\n",
       "    </tr>\n",
       "    <tr>\n",
       "      <th>3</th>\n",
       "      <td>PIH</td>\n",
       "      <td>NASDAQ</td>\n",
       "      <td>1347 PROPERTY INSURANCE HOLDINGS, INC.</td>\n",
       "      <td>FINANCE</td>\n",
       "      <td>PROPERTY-CASUALTY INSURERS</td>\n",
       "      <td>8.50</td>\n",
       "      <td>8.69</td>\n",
       "      <td>8.69</td>\n",
       "      <td>8.32</td>\n",
       "      <td>8.70</td>\n",
       "      <td>113600</td>\n",
       "      <td>2014-04-04</td>\n",
       "    </tr>\n",
       "    <tr>\n",
       "      <th>4</th>\n",
       "      <td>PIH</td>\n",
       "      <td>NASDAQ</td>\n",
       "      <td>1347 PROPERTY INSURANCE HOLDINGS, INC.</td>\n",
       "      <td>FINANCE</td>\n",
       "      <td>PROPERTY-CASUALTY INSURERS</td>\n",
       "      <td>9.00</td>\n",
       "      <td>8.94</td>\n",
       "      <td>8.94</td>\n",
       "      <td>8.55</td>\n",
       "      <td>9.00</td>\n",
       "      <td>60500</td>\n",
       "      <td>2014-04-07</td>\n",
       "    </tr>\n",
       "  </tbody>\n",
       "</table>\n",
       "</div>"
      ],
      "text/plain": [
       "  ticker exchange                                    name   sector  \\\n",
       "0    PIH   NASDAQ  1347 PROPERTY INSURANCE HOLDINGS, INC.  FINANCE   \n",
       "1    PIH   NASDAQ  1347 PROPERTY INSURANCE HOLDINGS, INC.  FINANCE   \n",
       "2    PIH   NASDAQ  1347 PROPERTY INSURANCE HOLDINGS, INC.  FINANCE   \n",
       "3    PIH   NASDAQ  1347 PROPERTY INSURANCE HOLDINGS, INC.  FINANCE   \n",
       "4    PIH   NASDAQ  1347 PROPERTY INSURANCE HOLDINGS, INC.  FINANCE   \n",
       "\n",
       "                     industry  open  close  adj_close   low  high  volume  \\\n",
       "0  PROPERTY-CASUALTY INSURERS  8.00   7.95       7.95  7.90  8.50  642900   \n",
       "1  PROPERTY-CASUALTY INSURERS  7.94   8.16       8.16  7.90  8.29  228400   \n",
       "2  PROPERTY-CASUALTY INSURERS  8.29   8.39       8.39  8.05  8.40  105000   \n",
       "3  PROPERTY-CASUALTY INSURERS  8.50   8.69       8.69  8.32  8.70  113600   \n",
       "4  PROPERTY-CASUALTY INSURERS  9.00   8.94       8.94  8.55  9.00   60500   \n",
       "\n",
       "         date  \n",
       "0  2014-04-01  \n",
       "1  2014-04-02  \n",
       "2  2014-04-03  \n",
       "3  2014-04-04  \n",
       "4  2014-04-07  "
      ]
     },
     "execution_count": 19,
     "metadata": {},
     "output_type": "execute_result"
    }
   ],
   "source": [
    "df.head()"
   ]
  },
  {
   "cell_type": "markdown",
   "metadata": {},
   "source": [
    "We can check if a certain company is associated with more than one share (i.e. if there is a company name (`name`) associated with more than one` ticker`)."
   ]
  },
  {
   "cell_type": "code",
   "execution_count": 20,
   "metadata": {},
   "outputs": [
    {
     "data": {
      "text/plain": [
       "12"
      ]
     },
     "execution_count": 20,
     "metadata": {},
     "output_type": "execute_result"
    }
   ],
   "source": [
    "df.groupby('name')['ticker'].nunique().max()"
   ]
  },
  {
   "cell_type": "code",
   "execution_count": 21,
   "metadata": {},
   "outputs": [
    {
     "data": {
      "text/plain": [
       "'BARCLAYS PLC'"
      ]
     },
     "execution_count": 21,
     "metadata": {},
     "output_type": "execute_result"
    }
   ],
   "source": [
    "df.groupby('name')['ticker'].nunique().idxmax()"
   ]
  },
  {
   "cell_type": "code",
   "execution_count": 22,
   "metadata": {},
   "outputs": [
    {
     "data": {
      "text/plain": [
       "[('BARCLAYS PLC', 'BCS'),\n",
       " ('BARCLAYS PLC', 'DFVL'),\n",
       " ('BARCLAYS PLC', 'DFVS'),\n",
       " ('BARCLAYS PLC', 'DLBL'),\n",
       " ('BARCLAYS PLC', 'DLBS'),\n",
       " ('BARCLAYS PLC', 'DTUL'),\n",
       " ('BARCLAYS PLC', 'DTUS'),\n",
       " ('BARCLAYS PLC', 'DTYL'),\n",
       " ('BARCLAYS PLC', 'DTYS'),\n",
       " ('BARCLAYS PLC', 'FLAT'),\n",
       " ('BARCLAYS PLC', 'STPP'),\n",
       " ('BARCLAYS PLC', 'TAPR')]"
      ]
     },
     "execution_count": 22,
     "metadata": {},
     "output_type": "execute_result"
    }
   ],
   "source": [
    "list(df[df['name'] == 'BARCLAYS PLC'].groupby(['name', 'ticker']).groups.keys())"
   ]
  },
  {
   "cell_type": "markdown",
   "metadata": {},
   "source": [
    "For example, we can see how * _BARCLAYS PLC_ * has 12 `tickers`.\n",
    "\n",
    "Now let's check if there are companies (company names) associated with more than one sector"
   ]
  },
  {
   "cell_type": "code",
   "execution_count": 23,
   "metadata": {},
   "outputs": [
    {
     "data": {
      "text/plain": [
       "2"
      ]
     },
     "execution_count": 23,
     "metadata": {},
     "output_type": "execute_result"
    }
   ],
   "source": [
    "df.groupby('name')['sector'].nunique().max()"
   ]
  },
  {
   "cell_type": "code",
   "execution_count": 24,
   "metadata": {},
   "outputs": [
    {
     "data": {
      "text/plain": [
       "'ENERGIZER HOLDINGS, INC.'"
      ]
     },
     "execution_count": 24,
     "metadata": {},
     "output_type": "execute_result"
    }
   ],
   "source": [
    "df.groupby('name')['sector'].nunique().idxmax()"
   ]
  },
  {
   "cell_type": "code",
   "execution_count": 25,
   "metadata": {},
   "outputs": [
    {
     "data": {
      "text/plain": [
       "[('ENERGIZER HOLDINGS, INC.', 'CONSUMER NON-DURABLES'),\n",
       " ('ENERGIZER HOLDINGS, INC.', 'MISCELLANEOUS')]"
      ]
     },
     "execution_count": 25,
     "metadata": {},
     "output_type": "execute_result"
    }
   ],
   "source": [
    "list(df[df['name'] == 'ENERGIZER HOLDINGS, INC.'].groupby(['name', 'sector']).groups.keys())"
   ]
  },
  {
   "cell_type": "markdown",
   "metadata": {},
   "source": [
    "We can see that *_ENERGIZER HOLDINGS, INC._* is associated with two sectors.\n",
    "\n",
    "A further check that we can carry out is to check if there are companies that are listed on both the NYSE and NASDAQ"
   ]
  },
  {
   "cell_type": "code",
   "execution_count": 26,
   "metadata": {},
   "outputs": [
    {
     "data": {
      "text/plain": [
       "2"
      ]
     },
     "execution_count": 26,
     "metadata": {},
     "output_type": "execute_result"
    }
   ],
   "source": [
    "df.groupby('name')['exchange'].nunique().max()"
   ]
  },
  {
   "cell_type": "code",
   "execution_count": 27,
   "metadata": {},
   "outputs": [
    {
     "data": {
      "text/plain": [
       "'AMTRUST FINANCIAL SERVICES, INC.'"
      ]
     },
     "execution_count": 27,
     "metadata": {},
     "output_type": "execute_result"
    }
   ],
   "source": [
    "df.groupby('name')['exchange'].nunique().idxmax()"
   ]
  },
  {
   "cell_type": "code",
   "execution_count": 28,
   "metadata": {},
   "outputs": [
    {
     "data": {
      "text/plain": [
       "[('AMTRUST FINANCIAL SERVICES, INC.', 'NASDAQ'),\n",
       " ('AMTRUST FINANCIAL SERVICES, INC.', 'NYSE')]"
      ]
     },
     "execution_count": 28,
     "metadata": {},
     "output_type": "execute_result"
    }
   ],
   "source": [
    "list(df[df['name'] == 'AMTRUST FINANCIAL SERVICES, INC.'].groupby(['name', 'exchange']).groups.keys())"
   ]
  },
  {
   "cell_type": "markdown",
   "metadata": {},
   "source": [
    "We note that for example *_AMTRUST FINANCIAL SERVICES, INC._* is listed on both exchanges."
   ]
  },
  {
   "cell_type": "markdown",
   "metadata": {},
   "source": [
    "### Data augmentation"
   ]
  },
  {
   "cell_type": "markdown",
   "metadata": {},
   "source": [
    "As the goal of the project was to test the performance of the various systems according to different sizes of the dataset, a python script was generated that allowed to obtain files of different sizes to be used as datasets for the various tests.\n",
    "\n",
    "The script does nothing but make a certain number of appendages (indicated as a parameter during the invocation) to the original file.\n",
    "\n",
    "The following datasets have therefore been created:"
   ]
  },
  {
   "cell_type": "markdown",
   "metadata": {},
   "source": [
    "\n",
    "|              DATASET NAME             | WEIGHT (GB) |                    DESCRIPTION                   |\n",
    "|:-------------------------------------:|:-----------:|:------------------------------------------------:|\n",
    "| historical_stock_prices_one_third.csv |     0.6     | The original file has been reduced by two thirds |\n",
    "| historical_stock_prices_half.csv      |     1.03    | The original file has been shrunk by a third     |\n",
    "| historical_stock_prices.csv           |     2.0     | The original file                                |\n",
    "| historical_stock_prices_3x.csv        |     8.2     | The original file was chained 3 times.           |"
   ]
  },
  {
   "cell_type": "markdown",
   "metadata": {},
   "source": [
    "## Jobs"
   ]
  },
  {
   "cell_type": "markdown",
   "metadata": {},
   "source": [
    "This section describes in detail the three jobs that have been carried out."
   ]
  },
  {
   "cell_type": "markdown",
   "metadata": {},
   "source": [
    "### Job 1"
   ]
  },
  {
   "cell_type": "markdown",
   "metadata": {},
   "source": [
    "The first job aims to generate statistics for each share between 2008 and 2018, indicating for each share: \n",
    "* (a) the symbol\n",
    "* (b) the change in the price (rounded percentage difference between the initial and final closing prices of the time interval)\n",
    "* (c) the minimum price\n",
    "* (e) the maximum price\n",
    "* (f) the average volume in the interval; all by ordering the list in descending order of variation of the quotation.\n",
    "\n",
    "Companies born after 2008 or went bankrupt before 2018 are also of interest in this work."
   ]
  },
  {
   "cell_type": "markdown",
   "metadata": {},
   "source": [
    "### Job 2"
   ]
  },
  {
   "cell_type": "markdown",
   "metadata": {},
   "source": [
    "The second job has the objective of generating, for each sector, the relative \"trend\" in the period 2008-2018; that is a list containing, for each year in the interval: \n",
    "* (a) the average annual volume of the sector's share\n",
    "* (b) the average annual variation of the companies in the sector\n",
    "* (c) the average daily price of the companies in the sector."
   ]
  },
  {
   "cell_type": "markdown",
   "metadata": {},
   "source": [
    "### Job 3"
   ]
  },
  {
   "cell_type": "markdown",
   "metadata": {},
   "source": [
    "The second job aims to generate groups of companies whose actions have had the same trend in terms of annual variation in the last three years available, indicating the companies and the common trend (e.g. {Apple, Intel, Amazon}: 2016 : -1%, 2017: + 3%, 2018: + 5%)."
   ]
  },
  {
   "cell_type": "markdown",
   "metadata": {},
   "source": [
    "# 3. Planning and development"
   ]
  },
  {
   "cell_type": "markdown",
   "metadata": {},
   "source": [
    "## Map Reduce"
   ]
  },
  {
   "cell_type": "markdown",
   "metadata": {},
   "source": [
    "Job MapReduce are developed in Python, the following approaches for the realization will be shown."
   ]
  },
  {
   "cell_type": "markdown",
   "metadata": {},
   "source": [
    "### Job 1"
   ]
  },
  {
   "cell_type": "markdown",
   "metadata": {},
   "source": [
    "##### Mapper"
   ]
  },
  {
   "cell_type": "markdown",
   "metadata": {},
   "source": [
    "During the mapping phase, we extrapolate the `ticker`, `close`, `low`, `high`, `volume` and `date` fields from each record.\n",
    "\n",
    "We then check that the record is for a year that falls in the 2008-2018 interval, and then print the key the values associated with the key.\n",
    "In particular, the key is made up of two fields: `ticker`, used as the \"primary\" key, and` date` used as the \"secondary\" key.\n",
    "\n",
    "In this way values that will be received by the reducer will be aggregated for the `ticker` field only and sorted according to the` date` field (in this case we speak of *secondary sort*). This will allow in the reduction phase to avoid comparisons between dates (to find the most recent and the least recent date) for the purpose of calculating the percentage difference.\n",
    "\n",
    "The value associated with the key, on the other hand, is made up of the `close`,` low`, `high` and` volume` fields."
   ]
  },
  {
   "cell_type": "markdown",
   "metadata": {},
   "source": [
    "```python\n",
    "class mapper:\n",
    "    \n",
    "    map(key, specifics):\n",
    "        ticker, _, close, _, low, high, volume, date = specifics\n",
    "        year = getYear(date)\n",
    "        if year in range from 2008 to 2018:\n",
    "            key = ticker, date\n",
    "            value = close, low, high, volume\n",
    "            print(key, value)\n",
    "```"
   ]
  },
  {
   "cell_type": "markdown",
   "metadata": {},
   "source": [
    "##### Reducer"
   ]
  },
  {
   "cell_type": "markdown",
   "metadata": {},
   "source": [
    "During the reduce phase we define a global variable `stats` containing a list of data structures that we will call below` item`, each of which contains the following fields:\n",
    "\n",
    "- ticker\n",
    "- Price variation\n",
    "- average volume\n",
    "- lowest price\n",
    "- maximum price\n",
    "\n",
    "In particular, each `item` is generated from a given pair (ticker, values) as input to the reduce phase.\n",
    "\n",
    "Companies born after 2008 or which went bankrupt before 2018 were also included.\n",
    "\n",
    "We now describe how the last 4 fields of this data structure are calculated.\n",
    "\n",
    "In particular, to calculate the percentage difference we extract from the `valueList` list (see the pseudocode) the` close` field of the first and last element of the list, being the values associated with the tickers (i.e. the key) sorted by date. The percentage difference is then calculated.\n",
    "\n",
    "As for the average volume, we extract the `volume` values associated with the current` ticker`, add these values ​​and divide the result by the number of `volume`.\n",
    "\n",
    "Finally, in order to calculate the maximum and minimum price, the `low` and` high` fields are extracted from each element of the `valueList` list to then identify the minimum and maximum price.\n",
    "\n",
    "The values thus calculated are then saved in the `item` data structure. At this point it is verified that the oldest date of the current ticker is 2008 as well as that the most recent date associated with the `ticker` processed is in the year 2018 and, if successful, the computed `item` data structure is added to the` stats` list.\n",
    "\n",
    "Finally, once all tickers have been calculated, the `stats` list is sorted according to the` priceVariation` field of its elements (in descending order) and the first 10 of that ordered list are printed."
   ]
  },
  {
   "cell_type": "markdown",
   "metadata": {},
   "source": [
    "```python\n",
    "class reducer:\n",
    "    \n",
    "    setup():\n",
    "        stats = empty list\n",
    "\n",
    "    reduce(ticker, records):\n",
    "        totalVolume = 0\n",
    "        countVolume = 0\n",
    "        minLowPrice = infinity\n",
    "        maxHighPrice = - infinity\n",
    "        \n",
    "        \n",
    "        # get price variation\n",
    "        closeStartingPrice = values.getFirstElement().getClose()\n",
    "        closeFinalPrice = values.getLastElement.getClose()\n",
    "        priceVariation = (closeFinalPrice - closeStartingPrice)/closeStartingPrice\n",
    "        \n",
    "        # compute remaining values \n",
    "        for each value in valueList:\n",
    "            totalVolume += volume for current value\n",
    "            countVolume += 1\n",
    "            minLowPrice = min(minLowPrice, low price for current value)\n",
    "            maxHighPrice = max(maxHighPrice, high price for current value)\n",
    "        \n",
    "        # get volume\n",
    "        avgVolume = totalVolume/countVolume\n",
    "\n",
    "        # add this item to stats list\n",
    "        startingDate = values.getFirstElement().getYear()\n",
    "        endingDate = values.getLastElement().getYear()\n",
    "        if startingDate == 2008 and endingDate == 2018:\n",
    "            obj = {ticker, priceVariation, minLowPrice, maxHighPrice, avgVolume}\n",
    "            stats.append(obj)\n",
    "    \n",
    "    cleanup()\n",
    "        sortedStats = sortByPriceVariation(stats, reverse=True)\n",
    "        for i in range(10):\n",
    "            print(sortedStats.getItem(i))\n",
    "```"
   ]
  },
  {
   "cell_type": "markdown",
   "metadata": {},
   "source": [
    "### Job 2"
   ]
  },
  {
   "cell_type": "markdown",
   "metadata": {},
   "source": [
    "##### Mapper"
   ]
  },
  {
   "cell_type": "markdown",
   "metadata": {},
   "source": [
    "Using the *Distributed Cache* (here de documentation https://hadoop.apache.org/docs/r3.0.0/api/org/apache/hadoop/filecache/DistributedCache.html) we can read the `historical_stocks.csv` file, to then define, starting from from the same file, a data structure (`tckrToSectorMap`) that associates to each` ticker` the corresponding sector (excluding the `tickers` without a corresponding sector).\n",
    "\n",
    "The *Distributed Cache* in particular allows to make available to worker nodes, that is mapper and reducer, of files that can then be read for the purpose of carrying out the map and reduce activities respectively.\n",
    "\n",
    "The `tckrToSectorMap` data structure thus created will be used during the mapping phase to be able to \"join\" with the records of the` historical_stock_prices.csv` file, associating the `ticker` sector in the record to each record.\n",
    "\n",
    "During the mapping phase, we extrapolate the `ticker`,` close`, `volume` and` date` fields from each record, check that the record is for a year that falls in the 2008-2018 interval and then print the key value pair associated with the record in question.\n",
    "\n",
    "In particular, the key is made up of three fields: `sector`, used as the \"primary\" key,` ticker` and `date`, where the latter two fields are used to perform the *secondary sort*, so that the values for the same sector are sorted (and aggregated) by `sector` and with the same` sector` are sorted by `ticker` and` data`.\n",
    "\n",
    "Thanks to this ordering of the keys, it will then be possible in the reduction phase to be able to calculate the average annual variation associated with each sector without having to make a comparison between dates (in order to find the most recent and oldest date).\n",
    "\n",
    "The value associated with the key, on the other hand, is made up of the `close` and` volume` fields."
   ]
  },
  {
   "cell_type": "markdown",
   "metadata": {},
   "source": [
    "```python\n",
    "class mapper:\n",
    "    \n",
    "    setup():\n",
    "        read the historical_stocks.csv file from the Distributed Cache\n",
    "        tckrToSectorMap = map which associate a (non null) sector for each ticker in historical_stocks.csv\n",
    "    \n",
    "    map(key, specifics):\n",
    "        ticker, _, close, _, _, _, volume, date = specifics\n",
    "        year = getYear(date)\n",
    "        if year in range from 2008 to 2018 and \n",
    "           ticker has a corresponding sector in tckrToSectorMap:\n",
    "            sector = ticker corresponding sector\n",
    "            key = sector, ticker, date\n",
    "            value = close, volume\n",
    "            print(key, value)\n",
    "```"
   ]
  },
  {
   "cell_type": "markdown",
   "metadata": {},
   "source": [
    "##### Reducer"
   ]
  },
  {
   "cell_type": "markdown",
   "metadata": {},
   "source": [
    "During the reduce phase, for each sector we define a series of data structures (specifically key and value maps `yearToSectorTrend` and `yearToSectorDailyClosePrice`) aimed at calculating the average annual volume, the average daily price and the average annual variation by sector for each year.\n",
    "\n",
    "We will now describe how these three values are calculated.\n",
    "\n",
    "To calculate the average annual variation, the ordering of the values associated with each sector is used in order to extract the oldest and most recent closing prices of each `ticker` in each year. These values are then added for each year to obtain the annual \"starting price\" and the annual \"final price\" of the sector. Finally the average annual variation is calculated from these last two values.\n",
    "\n",
    "To calculate the average daily price in a given year, the closing prices of the tickers relating to the same date are added first. An arithmetic average of the results thus obtained is carried out.\n",
    "\n",
    "Finally, as regards the average annual volume, the records of the sector in question are scanned, adding together the volume values for the same year and dividing this sum by the number of `volume` relating to that specific year."
   ]
  },
  {
   "cell_type": "markdown",
   "metadata": {},
   "source": [
    "```python\n",
    "class reducer:\n",
    "\n",
    "    reduce(sector, records):\n",
    "        yearToStartingCloseValueMap = empty map\n",
    "        yearToEndingCloseValueMap = empty map\n",
    "        yearToTotalVolumeMap = empty map\n",
    "        yearToTotalCloseValue = empty nested map\n",
    "        \n",
    "        for record in specifics:\n",
    "            day = get date field from the current record\n",
    "            year = get year value from the day variable\n",
    "            if the record corresponding ticker has changed from the previous record:\n",
    "                yearToEndingCloseValueMap[previous year] += close field taken from the previous record\n",
    "                yearToStartingCloseValueMap[year] += close field taken from the current record\n",
    "            yearToTotalVolumeMap[year] += volume field taken from the current record\n",
    "            countVolume[year] += 1\n",
    "            yearToTotalCloseValue[year][date] += close\n",
    "            \n",
    "        priceVariation = empty map\n",
    "  \n",
    "        for each year from 2008 to 2018:\n",
    "            difference = yearToEndingCloseValueMap[year] - yearToStartingCloseValueMap[year]\n",
    "            priceVariation[year] = difference/yearToStartingCloseValueMap[year]\n",
    "            count = number of date keys in yearToTotalCloseValue[year][date]\n",
    "            averageClosePrice[year] = yearToTotalCloseValue[year][date]/count\n",
    "            annualMeanVolume[year] = yearToTotalVolumeMap[year]/countVolume[year]\n",
    "            print(sector, year, annualMeanVolume[year], priceVariation[year], averageClosePrice[year])\n",
    "```"
   ]
  },
  {
   "cell_type": "markdown",
   "metadata": {},
   "source": [
    "### Job 3"
   ]
  },
  {
   "cell_type": "markdown",
   "metadata": {},
   "source": [
    "To carry out this job it was necessary to define a MapReduce application consisting of two jobs. The functions performed by each mapper and reducer of the MapReduce application created are described in words and by pseudocode."
   ]
  },
  {
   "cell_type": "markdown",
   "metadata": {},
   "source": [
    "##### First Mapper"
   ]
  },
  {
   "cell_type": "markdown",
   "metadata": {},
   "source": [
    "Using the *Distributed Cache*, we can read the `historical_stocks.csv` file and then define, starting from the same file, a `tckrToCompanyNameMap` data structure which associates the name of the corresponding company to each `ticker`.\n",
    "\n",
    "The `tckrToCompanyNameMap` data structure thus created will then be used to subsequently join with the mapper input records, associating the name of the company associated with the` ticker` in the record to each record.\n",
    "\n",
    "Subsequently, during the mapping phase, after excluding `ticker` of which we do not know the `sector`, we extrapolate from each record the fields` ticker`, `close` and` date`, we verify that the record is relative to a year that falls in the 2016-2018 interval and then print the key value pair for the record in question.\n",
    "\n",
    "In particular, the key is composed of three fields: `name`, used as the\" primary \"key,` ticker` and `date`, where these last two fields are used to perform the *secondary sort*, so that the values for the same company name is sorted (and aggregated) by `name` and, with the same` name`, is ordered by `ticker` and` data`.\n",
    "\n",
    "Thanks to this ordering of the keys, it will then be possible during the reduction phase to be able to calculate the annual variation associated with each company name without having to make a comparison between dates (in order to find the most recent and oldest date).\n",
    "\n",
    "The value associated with the key corresponds to the `close` field of the record."
   ]
  },
  {
   "cell_type": "markdown",
   "metadata": {},
   "source": [
    "```python\n",
    "class mapper:\n",
    "    \n",
    "    setup():\n",
    "        read the historical_stocks.csv file from the Distributed Cache\n",
    "        tckrToCompanyNameMap = map which associate the respective company name for each ticker in historical_stocks.csv\n",
    "    \n",
    "    map(key, record):\n",
    "        ticker, _, close, _, _, _, _, date = specifics\n",
    "        year = getYear(date)\n",
    "        if year in range from 2016 to 2018 and \n",
    "           ticker has a corresponding name in tckrToCompanyNameMap:\n",
    "            companyName = ticker corresponding name\n",
    "            key = name, ticker, date\n",
    "            value = close\n",
    "            print(key, value)\n",
    "```"
   ]
  },
  {
   "cell_type": "markdown",
   "metadata": {},
   "source": [
    "##### First Reducer"
   ]
  },
  {
   "cell_type": "markdown",
   "metadata": {},
   "source": [
    "During the reduction phase, we define a series of data structures (specifically key value maps: `yearToCompanyTrend`) for each company name, aimed at calculating the annual variation for each year in the 2016-2018 interval of all companies.\n",
    "\n",
    "In particular, to calculate the annual variation, the ordering of the values associated with each company name is used to extract the oldest and most recent closing prices of each `ticker` in each year. These values are then added for each year to obtain the annual \"starting price\" and the annual \"final price\" for that particular company. Finally, the annual variation is calculated from these last two values."
   ]
  },
  {
   "cell_type": "markdown",
   "metadata": {},
   "source": [
    "```python\n",
    "class reducer:\n",
    "    \n",
    "    reduce(companyName, records):\n",
    "        yearToStartingCloseValueMap = empty map\n",
    "        yearToEndingCloseValueMap = empty map\n",
    "        \n",
    "        for record in specifics:\n",
    "            day = get date field from the current record\n",
    "            year = get year value from the day variable\n",
    "            if the record corresponding ticker has changed from the previous record:\n",
    "                yearToEndingCloseValueMap[previous year] += close field taken from the previous record\n",
    "                yearToStartingCloseValueMap[year] += close field taken from the current record\n",
    "            \n",
    "        percentChangeMap = empty map\n",
    "  \n",
    "        for each year from 2016 to 2018:\n",
    "            difference = yearToEndingCloseValueMap[year] - yearToStartingCloseValueMap[year]\n",
    "            percentChangeMap[year] = difference/yearToStartingCloseValueMap[year]\n",
    "        \n",
    "        sortedPercentChangeMap = sorted(percentChangeMap)\n",
    "            \n",
    "        for each year in sortedPercentChangeMap:\n",
    "            print(percentChangeMap[2016], percentChangeMap[2017], percentChangeMap[2018], companyName)\n",
    "```"
   ]
  },
  {
   "cell_type": "markdown",
   "metadata": {},
   "source": [
    "##### Second Mapper"
   ]
  },
  {
   "cell_type": "markdown",
   "metadata": {},
   "source": [
    "This second mapper extracts the fields produced by the previous reducer from each record and outputs a key value pair where the key corresponds to triple the annual variation relating to 2016, 2017 and 2018, while the value corresponds to the company name.\n",
    "\n",
    "In this way, during the reduction phase all the companies that have the same \"trend\" in terms of annual variation will be aggregated under the same key (ie triple of annual variation)."
   ]
  },
  {
   "cell_type": "markdown",
   "metadata": {},
   "source": [
    "```python\n",
    "class mapper:\n",
    "    \n",
    "    map(key, record):\n",
    "        percentChange2016, percentChange2017, percentChange2018, companyName = record\n",
    "        key = percentChange2016, percentChange2017, percentChange2018\n",
    "        value = companyName\n",
    "        print(key, value)\n",
    "```"
   ]
  },
  {
   "cell_type": "markdown",
   "metadata": {},
   "source": [
    "##### Second Reducer"
   ]
  },
  {
   "cell_type": "markdown",
   "metadata": {},
   "source": [
    "During the reducer phase, we scan the records and then print all the companies that have the same triple in terms of annual variation."
   ]
  },
  {
   "cell_type": "markdown",
   "metadata": {},
   "source": [
    "```python\n",
    "class reducer:\n",
    "\n",
    "    \n",
    "    reduce(percentTriplet, records):\n",
    "        companyList = list of company which have the same \"trend\" (in other words the same annual variation triplet for 2016, 2017, 2018) \n",
    "        \n",
    "        for each company in companyList:\n",
    "            print(company, trend)\n",
    "```"
   ]
  },
  {
   "cell_type": "markdown",
   "metadata": {},
   "source": [
    "## Hive"
   ]
  },
  {
   "cell_type": "markdown",
   "metadata": {},
   "source": [
    "As for Hive, the first step was to create the tables on which to query."
   ]
  },
  {
   "cell_type": "markdown",
   "metadata": {},
   "source": [
    "### Job 1"
   ]
  },
  {
   "cell_type": "markdown",
   "metadata": {},
   "source": [
    "To improve the readability of the code of the first job and obtain the desired output, it was decided to add a modified version of table in Hive, containing the `date`, extracted from the dataset, in date format to allow a correct correlation of all dates from the 2008 to 2018."
   ]
  },
  {
   "cell_type": "markdown",
   "metadata": {},
   "source": [
    "A total of 6 views are defined:\n",
    "\n",
    "* `parse_ticker_min_max_avg`, containing the minimum value of `low`, the maximum value of `high` and the average value for each `ticker`\n",
    "* `parse_2008` and `close_ticker_2008`, containing the oldest date and the corresponding `close` value for each `ticker`\n",
    "* `parse2018` and `close_ticker_2018`, containing the most recent date and the corresponding `close` value for each `ticker`\n",
    "* `changes_odds`, which calculates the percentage change for each `ticker` from the previous views\n",
    "\n",
    "Finally, a join is made between the `parse_ticker_min_max_avg` and c`hanges_odds` views to obtain the required result."
   ]
  },
  {
   "cell_type": "markdown",
   "metadata": {},
   "source": [
    "```SQL\n",
    "\n",
    "CREATE VIEW IF NOT EXISTS parse_ticker_min_max_avg AS\n",
    "SELECT ticker, min(low) AS min_price, max(high) AS max_price, avg(volume) AS avg_volume\n",
    "FROM historical_stock_prices_date\n",
    "WHERE data>='2008-01-01' AND data<='2018-12-31' \n",
    "GROUP BY ticker;\n",
    " \n",
    " \n",
    "CREATE VIEW IF NOT EXISTS parse_2008 AS\n",
    "SELECT ticker, min(data) AS min_data\n",
    "FROM historical_stock_prices_date\n",
    "WHERE data>='2008-01-01' AND data<='2018-12-31'\n",
    "GROUP BY ticker;\n",
    " \n",
    " \n",
    "CREATE VIEW IF NOT EXISTS parse2018 AS\n",
    "SELECT ticker, max(data) AS max_data\n",
    "FROM historical_stock_prices_date\n",
    "WHERE data>='2008-01-01' AND data<='2018-12-31'\n",
    "GROUP BY ticker;\n",
    " \n",
    " \n",
    "CREATE VIEW IF NOT EXISTS close_ticker_2008 AS\n",
    "SELECT hspd.ticker, hspd.data, hspd.close\n",
    "FROM parse_2008 AS min, historical_stock_prices_date AS hspd\n",
    "WHERE hspd.ticker=min.ticker AND hspd.data=min.min_data;\n",
    " \n",
    " \n",
    "CREATE VIEW IF NOT EXISTS close_ticker_2018 AS\n",
    "SELECT hspd.ticker, hspd.data, hspd.close\n",
    "FROM parse2018 AS max, historical_stock_prices_date AS hspd\n",
    "WHERE hspd.ticker=max.ticker AND hspd.data=max.max_data;\n",
    " \n",
    " \n",
    "CREATE VIEW IF NOT EXISTS changes_odds AS\n",
    "SELECT ci.ticker, FLOOR(((cf.close-ci.close)/ci.close)*100) AS var_perc\n",
    "FROM close_ticker_2018 AS cf join close_ticker_2008  AS ci on cf.ticker=ci.ticker;\n",
    " \n",
    " \n",
    "CREATE TABLE IF NOT EXISTS result_job1 AS\n",
    "SELECT a.ticker, b.var_perc, a.min_price, a.max_price, a.avg_volume\n",
    "FROM parse_ticker_min_max_avg AS a join changes_odds AS b on a.ticker=b.ticker\n",
    "ORDER BY b.var_perc DESC limit 10;\n",
    "```"
   ]
  },
  {
   "cell_type": "markdown",
   "metadata": {},
   "source": [
    "### Job 2"
   ]
  },
  {
   "cell_type": "markdown",
   "metadata": {},
   "source": [
    "Initially it was decided to join between the two tables that contain the file, `historical_stock_prices.csv` and `historical_stocks.csv` by placing the table that contains the daily records to the right of the join operator to improve the efficiency of the operation. During the join operation, the tickers that are not associated with any sector are filtered."
   ]
  },
  {
   "cell_type": "markdown",
   "metadata": {},
   "source": [
    "8 views are then defined:\n",
    "\n",
    "* `volume_sector`, through which the sum of all volumes for a given sector is calculated, counting the number of tickers taken into consideration\n",
    "* `average_sector`, in which the average is calculated as the ratio between the sum of the volumes and the number of tickers, rounding up to the unit\n",
    "* `sector_data_min_max`, which contains the oldest and most recent dates for each ticker and each year\n",
    "* `sector_data_close_2008` and `sector_data_close_2018`, which contain the overall closing price associated with the oldest and most recent date for each sector in each year\n",
    "* `sector_data_close`, which contains the rounded percentage change for each sector in each year\n",
    "* `sector_data_sum_close`, which contains the sum of the closing prices of the same day for all tickers of the same sector\n",
    "* `sector_data_avg_close`, containing the average daily price for each sector in each year\n",
    "\n",
    "Finally, the join is made between the tables `sector_data_avg_close`, `sector_data_close` and `average_sector` to obtain the required output."
   ]
  },
  {
   "cell_type": "markdown",
   "metadata": {},
   "source": [
    "```SQL\n",
    "\n",
    "CREATE TABLE IF NOT EXISTS main_table AS \n",
    "SELECT hs.sector, hsp.ticker, hsp.data, hsp.close, hsp.volume \n",
    "FROM historical_stock AS hs JOIN historical_stock_prices_string AS hsp ON hsp.ticker=hs.ticker \n",
    "WHERE YEAR(hsp.data)>=2008 AND YEAR(hsp.data)<=2018 AND hs.sector!='N/A';\n",
    "\n",
    "\n",
    "CREATE VIEW IF NOT EXISTS volume_sector AS \n",
    "SELECT sector, YEAR(data) AS anno, SUM(volume) AS somma_volume, count(ticker) as conteggio\n",
    "FROM main_table \n",
    "GROUP BY sector, YEAR(data);\n",
    "\n",
    "\n",
    "CREATE VIEW IF NOT EXISTS average_sector AS\n",
    "SELECT sector, anno,ROUND((somma_volume/conteggio)) as avg_volume\n",
    "FROM volume_sector;\n",
    "\n",
    "\n",
    "CREATE VIEW IF NOT EXISTS sector_data_min_max AS \n",
    "SELECT sector, ticker, min(TO_DATE(data)) AS min_data, max(TO_DATE(data)) AS max_data \n",
    "FROM main_table \n",
    "GROUP BY sector, ticker, YEAR(data);\n",
    "\n",
    "\n",
    "CREATE VIEW IF NOT EXISTS sector_data_close_2008 AS \n",
    "SELECT b.sector, YEAR(b.min_data) AS anno, SUM(a.close) AS min_close \n",
    "FROM main_table AS a, sector_data_min_max AS b \n",
    "WHERE a.sector=b.sector AND a.data=b.min_data AND b.ticker=a.ticker \n",
    "GROUP BY b.sector, YEAR(b.min_data);\n",
    "\n",
    "\n",
    "CREATE VIEW IF NOT EXISTS sector_data_close_2018 AS \n",
    "SELECT b.sector, YEAR(b.max_data) AS anno, SUM(a.close) AS max_close \n",
    "FROM main_table AS a, sector_data_min_max AS b \n",
    "WHERE a.sector=b.sector AND a.data=b.max_data AND b.ticker=a.ticker \n",
    "GROUP BY b.sector, YEAR(b.max_data);\n",
    "\n",
    "CREATE TABLE IF NOT EXISTS sector_data_close AS \n",
    "SELECT mi.sector, mi.anno, ROUND(AVG(((ma.max_close-mi.min_close)/mi.min_close)*100),2) AS perc_var_anno \n",
    "FROM sector_data_close_2008 AS mi, sector_data_close_2018 AS ma \n",
    "WHERE mi.sector=ma.sector AND mi.anno=ma.anno\n",
    "GROUP BY mi.sector, mi.anno; \n",
    "\n",
    "\n",
    "CREATE VIEW IF NOT EXISTS sector_data_sum_close AS \n",
    "SELECT sector, data, SUM(close) AS somma\n",
    "FROM main_table \n",
    "GROUP BY sector, data;\n",
    "\n",
    "\n",
    "CREATE VIEW IF NOT EXISTS sector_data_avg_close AS \n",
    "SELECT sector, YEAR(data) AS anno,AVG(somma) AS media \n",
    "FROM sector_data_sum_close \n",
    "GROUP BY sector, YEAR(data);\n",
    "\n",
    "\n",
    "CREATE TABLE IF NOT EXISTS result_table_job2 AS\n",
    "SELECT a.sector, a.anno, c.avg_volume, b.perc_var_anno, a.media \n",
    "FROM sector_data_avg_close AS a, sector_data_close AS b, average_sector AS c \n",
    "WHERE a.sector=b.sector AND b.sector=c.sector AND a.anno=b.anno AND c.anno=b.anno\n",
    "ORDER BY sector, anno;\n",
    "```"
   ]
  },
  {
   "cell_type": "markdown",
   "metadata": {},
   "source": [
    "### Job 3"
   ]
  },
  {
   "cell_type": "markdown",
   "metadata": {},
   "source": [
    "Initially it was decided to join between the two tables that contain the file, `historical_stock_prices.csv` and `historical_stocks.csv` by placing the table that contains the daily records to the right of the join operator to improve the efficiency of the operation. During the join operation, the tickers that are not associated with any sector are also filtered based on the 2016-2018 three-year period."
   ]
  },
  {
   "cell_type": "markdown",
   "metadata": {},
   "source": [
    "We then define 1 view and 4 tables:\n",
    "\n",
    "* `name_data_min_max`, includes for each ticker and every year the oldest and most recent date\n",
    "* `name_data_close_min`, with which the closing prices for the oldest tickers are added\n",
    "* `name_data_close_max`, with which the closing prices for the less dated tickers are added\n",
    "* `name_anno_close`, which contains the percentage change for each sector in each year\n",
    "* `name_anno_close_joined`, is placed on the same output line, through the concatenation function, the set of names for which the trend is similar based on the percentage variation\n",
    "\n",
    "Finally, a last table is created to obtain the desired output, in which some conditions are specified according to which companies with different names and the same quotation are grouped."
   ]
  },
  {
   "cell_type": "markdown",
   "metadata": {},
   "source": [
    "```SQL\n",
    "\n",
    "CREATE TABLE IF NOT EXISTS table_job3 AS \n",
    "SELECT t1.name, t1.sector, t2.data, t2.close, t2.ticker\n",
    "FROM historical_stock AS t1 JOIN historical_stock_prices_string AS t2 on t2.ticker=t1.ticker\n",
    "WHERE YEAR(data)>=2016 AND YEAR(data)<=2018 AND t1.sector!='N/A';\n",
    "\n",
    "\n",
    "CREATE VIEW IF NOT EXISTS name_data_min_max AS \n",
    "SELECT name, ticker, sector, YEAR(data) AS anno, min(TO_DATE(data)) AS min_data, max(TO_DATE(data)) AS max_data \n",
    "FROM table_job3 \n",
    "GROUP BY name, ticker, sector, YEAR(data);\n",
    "\n",
    "\n",
    "CREATE VIEW IF NOT EXISTS name_data_close_min AS \n",
    "SELECT b.name, a.ticker, YEAR(b.min_data) AS anno, SUM(a.close) AS min_close \n",
    "FROM table_job3 AS a, name_data_min_max AS b \n",
    "WHERE a.ticker=b.ticker AND a.data=b.min_data \n",
    "GROUP BY b.name,a.ticker, YEAR(b.min_data);\n",
    "\n",
    "\n",
    "CREATE VIEW IF NOT EXISTS name_data_close_max AS \n",
    "SELECT b.name, a.ticker, YEAR(b.max_data) AS anno, SUM(a.close) AS max_close \n",
    "FROM table_job3 AS a, name_data_min_max AS b \n",
    "WHERE a.data=b.max_data AND a.ticker=b.ticker\n",
    "GROUP BY b.name, a.ticker, YEAR(b.max_data); \n",
    "\n",
    "\n",
    "CREATE TABLE IF NOT EXISTS name_anno_close AS \n",
    "SELECT ndc_mi.name, ndc_mi.ticker,ndc_mi.anno, ROUND((ndc_ma.max_close-ndc_mi.min_close)/ndc_mi.min_close *100, 0) AS perc_var_anno\n",
    "FROM name_data_close_min AS ndc_mi, name_data_close_max AS ndc_ma\n",
    "WHERE ndc_mi.name=ndc_ma.name AND ndc_mi.anno=ndc_ma.anno AND ndc_mi.ticker=ndc_ma.ticker\n",
    "ORDER BY  ticker, anno;\n",
    "\n",
    "\n",
    "CREATE TABLE name_anno_close_joined AS \n",
    "SELECT name, concat_ws(',', collect_list(cast (perc_var_anno as STRING)))AS quotazione, anno\n",
    "FROM name_anno_close\n",
    "GROUP BY name, anno;\n",
    "\n",
    "\n",
    "CREATE TABLE result_table_job3 AS\n",
    "SELECT collect_set(v1.name), v1.quotazione as var16, v2.quotazione as var17, v3.quotazione as var18\n",
    "FROM name_anno_close_joined v1, name_anno_close_joined v2, name_anno_close_joined v3\n",
    "WHERE v1.name = v2.name AND v1.anno != v2.anno != v3.anno AND v1.name = v3.name AND v1.anno = '2016' and v2.anno = '2017' and v3.anno = '2018'\n",
    "GROUP BY v1.quotazione, v2.quotazione, v3.quotazione\n",
    "HAVING count(*)>1;\n",
    "```"
   ]
  },
  {
   "cell_type": "markdown",
   "metadata": {},
   "source": [
    "## Spark"
   ]
  },
  {
   "cell_type": "markdown",
   "metadata": {},
   "source": [
    "### Job 1"
   ]
  },
  {
   "cell_type": "markdown",
   "metadata": {},
   "source": [
    "The following `RDD` are specified for the execution of the job:\n",
    "\n",
    "* `low_min_tckr`, contains for each ticker the minimum close price in the interval\n",
    "\n",
    "* `high_max_tckr`, contains for each ticker the maximum close price in the interval\n",
    "\n",
    "* `mean_volume_tckr`, contains the average daily volume for each ticker\n",
    "\n",
    "* `min_close_total`, contains for each ticker the closing price for the oldest date\n",
    "\n",
    "* `max_close_total`, contains for each ticker the closing price for the most recent date"
   ]
  },
  {
   "cell_type": "markdown",
   "metadata": {},
   "source": [
    "On these last two `RDD` the join is made to obtain the `join_price_variation`, on which the percentage variation for each ticker will be calculated successively by means of the formula present in the RDD `price_variation`.\n",
    "\n",
    "Once all the data are obtained, the join is made between the RDD ticker_`min_close_total`, `max_close_total`, `mean_volume_tckr`, `price_variation` to obtain the result. The RDD of the result will then be sorted on the basis of the percentage change, in descending order, as required in the specification and the first 10 records produced will be taken."
   ]
  },
  {
   "cell_type": "markdown",
   "metadata": {},
   "source": [
    "The implementation pseduocode follows:"
   ]
  },
  {
   "cell_type": "markdown",
   "metadata": {},
   "source": [
    "```python\n",
    "reads all lines in the historical_stock_prices.csv file with a date between 2008 and 2018\n",
    " \n",
    "\n",
    "low_min_tckr = input.map(line -> (ticker, low)) \n",
    "    .reduceByKey(min(low1, low2)) \n",
    "\n",
    "high_max_tckr = input.map(line -> (ticker, high))  \n",
    "    .reduceByKey(max(high1, high2)) \n",
    "\n",
    "mean_volume_tckr = input.map(line -> (ticker, (volume, 1)))  \n",
    "    .reduceByKey((volume1 + volume2, count+1)) \n",
    "    .map(line -> (ticker, tot_volume/count)) \n",
    "\n",
    "min_close_total = input.map(line -> (ticker, (close, date)))  \n",
    "    .reduceByKey(min((date1, close1), (date2, close2))) \n",
    "\n",
    "max_close_total = input.map(line -> (ticker, (close, date))) \n",
    "    .reduceByKey(max((date1, close1), (date2, close2))) \n",
    "   \n",
    "\n",
    "join_price_variation = min_close_total.join(max_close_total) \n",
    "\n",
    "price_variation = join_price_variation \n",
    "    .map(line -> (ticker, (max_close - min_close)/min_close)) \n",
    "\n",
    "    \n",
    "stats = high_max_tckr.join(low_min_tckr) \n",
    "    .join (price_variation) \n",
    "    .join (mean_volume_tckr) \n",
    "    .sortBy(price_variation decreasing)\n",
    "    .take(10)\n",
    "\n",
    "```"
   ]
  },
  {
   "cell_type": "markdown",
   "metadata": {},
   "source": [
    "### Job 2"
   ]
  },
  {
   "cell_type": "markdown",
   "metadata": {},
   "source": [
    "The following `RDD` are specified for the execution of the job:\n",
    "\n",
    "* `mean_volume`, contains for each sector, for each year of the interval, the average volume\n",
    "\n",
    "* `mean_sum_close`, contains for each sector, for each year of the interval, the average daily price\n",
    "\n",
    "* `min_close_total`, contains for each sector, for each year of the interval, the close quotation with an older date\n",
    "\n",
    "* `max_close_total`, contains for each sector, for each year of the interval, the close quotation with the most recent date"
   ]
  },
  {
   "cell_type": "markdown",
   "metadata": {},
   "source": [
    "On these last two `RDD` the join is made to obtain the join_price_variation, on which the average percentage variation for each year of the interval for each sector will be calculated subsequently, using the formula present in the `RDD` `price_variation`.\n",
    "\n",
    "Finally, the join is made between `mean_sum_close`, `mean_volume` and `price_variation` to obtain the output required by the job, sorted by sector."
   ]
  },
  {
   "cell_type": "markdown",
   "metadata": {},
   "source": [
    "The implementation pseduocode follows:"
   ]
  },
  {
   "cell_type": "markdown",
   "metadata": {},
   "source": [
    "```python\n",
    "hsp = RDD which contains the dataset historical_stock_prices.csv with the records relating to the years in the range 2008-2018\n",
    "\n",
    "hs = RDD containing the historical_stocks.csv dataset, filtering the records in which the sector field assumes null or 'N/A' values\n",
    " \n",
    "\n",
    "mean_volume  = join_hsp_hs.map(line -> ((sector, year), volume) \n",
    "    .map(line -> ((sector, year), volume, 1) \n",
    "    .reduceByKey(volume1 + volume2, count_volume + 1) \n",
    "    .map(line -> (sector (sum_volume/count_volume) \n",
    "\n",
    "mean_sum_close = join_hsp_hs \n",
    "    .map(line -> ((sector, date), close))  \n",
    "    .reduceByKey(close1 + close2)  \n",
    "    .map(line -> ((sector, year), (sum_close, 1))) \n",
    "    .reduceByKey(line -> (sum_close1 + sum_close2, count_close + 1)) \n",
    "    .map(line -> (sector, (sum_close/count_close)) \n",
    "\n",
    "min_close_total = join_hsp_hs\n",
    "    .map(line -> ((ticker, sector, year), (close, date))) \n",
    "    .reduceByKey(min((date1, close1), (date2, close2))) \n",
    "    .map(line -> ((sector, year), min_close))  \n",
    "    .reduceByKey(min_close1 + min_close2) \n",
    "\n",
    "max_close_total = join_hsp_hs\n",
    "    .map(line -> ((ticker, sector, year), (close, date)))  \n",
    "    .reduceByKey(max((date1, close1), (date2, close2))) \n",
    "    .map(line -> ((sector, year), max_close))  \n",
    "    .reduceByKey(max_close1 + max_close2) \n",
    "\n",
    "         \n",
    "join_price_variation = min_close_total.join(max_close_total) \n",
    "\n",
    "price_variation = join_price_variation\n",
    "    .map(line -> (ticker, (max_close_total - min_close_total)/min_close_total * 100)) \n",
    "\n",
    " \n",
    "stats = price_variation\n",
    "    .join(mean_sum_close) \n",
    "    .join(mean_volume) \n",
    "    .sortBy(sector) \n",
    "```"
   ]
  },
  {
   "cell_type": "markdown",
   "metadata": {},
   "source": [
    "### Job 3"
   ]
  },
  {
   "cell_type": "markdown",
   "metadata": {},
   "source": [
    "The following `RDD` are specified for the execution of the job:\n",
    "\n",
    "* `min_close_total`, contains for each company, for each year of the interval, the portion relating to the oldest date\n",
    "\n",
    "* `max_close_total`, contains for each company, for each year of the interval, the quota for the most recent date"
   ]
  },
  {
   "cell_type": "markdown",
   "metadata": {},
   "source": [
    "On these `RDD` the join is carried out to obtain the `join_price_variation`, on which the percentage or trend variation will be calculated subsequently, for each year of the interval, for each company.\n",
    "\n",
    "`price_variation` will have the name as key and the year and its percentage change as values.\n",
    "\n",
    "A `RDD` called `trend` will then be defined, which will go through the percentage change by extracting and grouping the calculated trends for each company. Subsequently, in `trend_clean`, every record in the `RDD` previously defined, will be cleaned up by all companies that do not have trend values even for just one of the 3 years of the interval.\n",
    "\n",
    "In the next phase, a function called \"ordering_triplet\" is applied which takes care of sorting increasingly, the years present `trend_clean` to obtain a uniform result.\n",
    "\n",
    "Finally, all companies that will have the same trend for the three-year period will be taken and aggregated as output, from `RDD` `trend_clean_order`, returning the desired result in the form (company names, trend equal to three years)."
   ]
  },
  {
   "cell_type": "markdown",
   "metadata": {},
   "source": [
    "The implementation pseduocode follows:"
   ]
  },
  {
   "cell_type": "markdown",
   "metadata": {},
   "source": [
    "```python\n",
    "hsp = RDD containing the dataset historical_stock_prices.csv, with the records relating only to the years in the interval 2016-2018\n",
    "\n",
    "hs = RDD containing the historical_stocks.csv dataset, filtering the records in which the sector field takes the value \"N/A\"\n",
    "\n",
    "\n",
    "min_close_total = join_hsp_hs\n",
    "    .map(line -> ((ticker, year, close), (ticker, name))) \n",
    "    .reduceByKey(min((date1, close1), (date2, close2)))  \n",
    "    .map(line -> ((name, year), min_close))         \n",
    "    .reduceByKey(min_close1 + min_close2) \n",
    "\n",
    "max_close_total = join_hsp_hs\n",
    "    .map(line -> ((ticker, year, close), (ticker, name))) \n",
    "    .reduceByKey(max((date1, close1), (date2, close2)))  \n",
    "    .map(line -> ((name, year), max_close)) \n",
    "    .reduceByKey(max_close1 + max_close2) \n",
    "\n",
    "    \n",
    "join_price_variation = min_close_total.join(max_close_total) \n",
    "\n",
    "price_variation = join_price_variation\n",
    "    .map(line -> (name, (max_close_total – min_close_total)/min_close_total * 100)) \n",
    "\n",
    "trend = price_variation\n",
    "    .map(line -> ((name), ([(year, price_variation)]))) \n",
    "    .reduceByKey(([(year1, price_variation1).concat(year2, price_variation2)])) \n",
    "\n",
    "trend_clean = trend.filter(linea -> filtering the lines that contain non-zero percentage increase values in at least one of the years 2016 2017 and 2018) \n",
    "\n",
    "trend_clean_order = trend_clean.map(line -> sort(line)) \n",
    "\n",
    " \n",
    "stats = trend_clean_order. \n",
    "    .map(line -> ([year1, trend1, year2, trend2, year3, trend3]),((name))) \n",
    "    .reduceByKey(name1 + name2).filter(len(name))>=2 \n",
    "    .map(line -> (name, year1: trend1, year2: trend2, year3: trend3) \n",
    "    .sortBy(year, trend increasing) \n",
    "```"
   ]
  },
  {
   "cell_type": "markdown",
   "metadata": {},
   "source": [
    "# 4. Results"
   ]
  },
  {
   "cell_type": "markdown",
   "metadata": {},
   "source": [
    "In this part the results obtained after running the three jobs will be presented."
   ]
  },
  {
   "cell_type": "markdown",
   "metadata": {},
   "source": [
    "### Job 1"
   ]
  },
  {
   "cell_type": "markdown",
   "metadata": {},
   "source": [
    "The first 10 lines of the output produced for job 1 are reported:"
   ]
  },
  {
   "cell_type": "markdown",
   "metadata": {},
   "source": [
    "```\n",
    "Ticker\t   Percentage Variation    Lowest Price          Maximum Price         Average Volume\n",
    " \n",
    "EAF\t      267757.134589%\t      0.00200000009499\t  24.3640003204\t     1245139.03846\n",
    "ORGS\t     217415.926128%\t      0.00313999992795\t  19.9200000763\t     8570.9623431\n",
    "PUB\t      179900.004023%\t      0.00899999961257\t  138.0\t             34449.4007092\n",
    "RMP\t      121081.601901%\t      0.0299999993294\t   79.8187332153\t     120487.047671\n",
    "CTZ\t      120300.00231%\t       0.00499999988824\t  26.8400001526\t     52050.2730807\n",
    "CCD\t      111250.004778%\t      0.0149999996647 \t  25.9799995422\t     105416.892662\n",
    "SAB\t      110428.769954%\t      1.3654999733\t      319600.0\t          1695378.01632\n",
    "KE\t       99400.0003166%\t      0.0149999996647\t   22.4500007629\t     73249.8461538\n",
    "LN\t       96699.9992053%\t      0.0149999996647\t   51.4799995422\t     394344.929641\n",
    "GHG\t      64850.0003073%\t      0.00499999988824\t  25.1000003815\t     607659.292629\n",
    "```"
   ]
  },
  {
   "cell_type": "markdown",
   "metadata": {},
   "source": [
    "### Job 2"
   ]
  },
  {
   "cell_type": "markdown",
   "metadata": {},
   "source": [
    "The first 10 lines of the output produced for job 2 are reported:"
   ]
  },
  {
   "cell_type": "markdown",
   "metadata": {},
   "source": [
    "```\n",
    "Sector\t\t\t  Year    Average Annual Volume     Average Annual Variation\t  Average Daily Price\n",
    "\n",
    "BASIC INDUSTRIES\t2008\t2315405                   -0.050131389643\t           7124.09400267\n",
    "BASIC INDUSTRIES\t2009\t2440724                    0.0348287578952\t          4727.91920472\n",
    "BASIC INDUSTRIES\t2010\t2017339\t                0.217900355607\t           6126.05228338\n",
    "BASIC INDUSTRIES\t2011\t1853541                   -0.586007636167\t           8535.55187455\n",
    "BASIC INDUSTRIES\t2012\t1552641\t               -0.687885248968               8694.81899382\n",
    "BASIC INDUSTRIES\t2013\t1514508\t                0.103226361955\t           28486.4249861\n",
    "BASIC INDUSTRIES\t2014\t1460847\t               -0.719021325857\t           24380.2074047\n",
    "BASIC INDUSTRIES\t2015\t1610008\t               -0.481011719633\t           9538.71135927\n",
    "BASIC INDUSTRIES\t2016\t1937797\t                0.138293577492\t           7721.85529589\n",
    "BASIC INDUSTRIES\t2017\t1557227\t                0.152790107615\t           9101.40840867\n",
    "```"
   ]
  },
  {
   "cell_type": "markdown",
   "metadata": {},
   "source": [
    "### Job 3"
   ]
  },
  {
   "cell_type": "markdown",
   "metadata": {},
   "source": [
    "```\n",
    "Companies                                                                    2016        2017        2018\n",
    "\n",
    "STURM, RUGER & COMPANY, INC. - LINCOLN EDUCATIONAL SERVICES CORPORATION \t -14%\t     4%\t     8%\n",
    "PENNYMAC FINANCIAL SERVICES, INC. - LEAR CORPORATION \t                     10%\t     33%       -8%\n",
    "HERSHEY COMPANY (THE) - SPECTRUM BRANDS HOLDINGS, INC.                        18%\t     9%\t    -11%\n",
    "GENTEX CORPORATION - CALERES, INC. \t                                       25%\t     3%\t     11%\n",
    "TERRENO REALTY CORPORATION - DUNKIN&#39; BRANDS GROUP, INC. \t              28%\t     23%        9%\n",
    "SIGNATURE BANK - COMPASS MINERALS INTERNATIONAL, INC.\t                     3%\t     -8%\t    -15%\n",
    "DENNY&#39;S CORPORATION - WINMARK CORPORATION \t                            35%\t     4%\t     14%\n",
    "MIDDLESEX WATER COMPANY - INTERNATIONAL BANCSHARES CORPORATION \t           64%\t    -3%\t     18%\n",
    "```"
   ]
  },
  {
   "cell_type": "markdown",
   "metadata": {},
   "source": [
    "# 5. Tests"
   ]
  },
  {
   "cell_type": "markdown",
   "metadata": {},
   "source": [
    "This chapter explains the metrics used to compare various systems. The specifications of the systems used for local and cluster executions and the results of the tests carried out will be illustrated.\n",
    "The various tests will be analyzed with a subdivision that allows to evaluate the performance of a system on the various environments but also to evaluate how the various systems behave on the same environment."
   ]
  },
  {
   "cell_type": "markdown",
   "metadata": {},
   "source": [
    "## Comparison metrics"
   ]
  },
  {
   "cell_type": "markdown",
   "metadata": {},
   "source": [
    "The metrics used to make the comparison between the systems are those relating to:\n",
    "\n",
    "* Execution time\n",
    "* Average execution time\n",
    "* Execution environment (Local / Cluster)\n",
    "* Dataset size (as illustrated in the second chapter)"
   ]
  },
  {
   "cell_type": "markdown",
   "metadata": {},
   "source": [
    "## Hardware and Software specifications"
   ]
  },
  {
   "cell_type": "markdown",
   "metadata": {},
   "source": [
    "The environments on which the various tests were carried out are two: one local and one in the cloud (AWS)."
   ]
  },
  {
   "cell_type": "markdown",
   "metadata": {},
   "source": [
    "### Local environment"
   ]
  },
  {
   "cell_type": "markdown",
   "metadata": {},
   "source": [
    "#### Hardware specifications"
   ]
  },
  {
   "cell_type": "markdown",
   "metadata": {},
   "source": [
    "* CPU: Intel Core i5 dual-core 2,9 GHz\n",
    "* RAM: 16 GB 2133 MHz LPDDR3\n",
    "* Storage memory: 256 GB (SSD)"
   ]
  },
  {
   "cell_type": "markdown",
   "metadata": {},
   "source": [
    "#### Software specifications"
   ]
  },
  {
   "cell_type": "markdown",
   "metadata": {},
   "source": [
    "* macOS Catalina 10.15.4 \n",
    "* Java 1.8.0_241  \n",
    "* Python 3.7 \n",
    "* Hadoop 3.2.1 \n",
    "* Apache Hive 3.1.2 \n",
    "* Spark 3.0.0 con Hadoop 3.2.X "
   ]
  },
  {
   "cell_type": "markdown",
   "metadata": {},
   "source": [
    "### Cluster environment"
   ]
  },
  {
   "cell_type": "markdown",
   "metadata": {},
   "source": [
    "The cluster was created using the \"AWS Educate\" service."
   ]
  },
  {
   "cell_type": "markdown",
   "metadata": {},
   "source": [
    "#### Hardware specifications"
   ]
  },
  {
   "cell_type": "markdown",
   "metadata": {},
   "source": [
    "* CPU: 4 vCore, emr 6.0.0 x5-large\n",
    "* RAM: 16 GB\n",
    "* Storage memory: EBS 64 Gb\n",
    "* Architecture: 1 Master node, 3 Slave nodes"
   ]
  },
  {
   "cell_type": "markdown",
   "metadata": {},
   "source": [
    "#### Software specifications"
   ]
  },
  {
   "cell_type": "markdown",
   "metadata": {},
   "source": [
    "* Java 1.8.0_242 \n",
    "* Hadoop 3.2.1 \n",
    "* Python 3.7.4 \n",
    "* Hive 3.1.2 \n",
    "* Spark 2.4.4 "
   ]
  },
  {
   "cell_type": "markdown",
   "metadata": {},
   "source": [
    "## Charts"
   ]
  },
  {
   "cell_type": "markdown",
   "metadata": {},
   "source": [
    "The comparisons relating to the 3 jobs will be shown, both locally and in clusters, to get an overview of the various jobs run on the different machines."
   ]
  },
  {
   "cell_type": "code",
   "execution_count": 1,
   "metadata": {},
   "outputs": [],
   "source": [
    "import numpy as np\n",
    "import matplotlib.pyplot as plt"
   ]
  },
  {
   "cell_type": "code",
   "execution_count": 2,
   "metadata": {},
   "outputs": [],
   "source": [
    "map_reduce_jobs_times = [\n",
    "    [\n",
    "        [50.018, 69.31, 141.11, 511.58], # Job 1 local\n",
    "        [44.144, 63.12, 177.42, 461.20], # Job 2 local\n",
    "        [28.905, 40.003, 108.98, 250.10] # Job 3 local\n",
    "       \n",
    "    ],\n",
    "    [\n",
    "        [101.578, 132.585, 80.413, 271.2], # Job 1 AWS\n",
    "        [36.362, 58.334, 62.349, 205.8], # Job 2 AWS\n",
    "        [31.215, 54.328, 68.535, 82.8] # Job 3 AWS\n",
    "    ]\n",
    "]\n",
    " \n",
    "spark_jobs_times = [\n",
    "    [\n",
    "        [88.94, 116.68, 233.16, 744.69], # Job 1 local\n",
    "        [84.52, 118.39, 256.31, 793.64], # Job 2 local\n",
    "        [52.964, 76.60, 155.31, 478.61] # Job 3 local\n",
    "    ],\n",
    "    [\n",
    "        [53.037, 76.341, 131.705, 124.2], # Job 1 AWS\n",
    "        [69.521, 92.911, 177.14, 128.4], # Job 2 AWS\n",
    "        [41.974, 55.275, 100.614, 64.8] # Job 3 AWS\n",
    "    ]\n",
    "]\n",
    " \n",
    "hive_jobs_times = [\n",
    "    [\n",
    "        [144.94, 163.18, 246.47, 771.29], # Job 1 local\n",
    "        [167.93, 189.12, 267.81, 678], # Job 2 local\n",
    "        [139.83, 149.59, 214.15, 376.92] # Job 3 local\n",
    "    ],\n",
    "    [\n",
    "        [58.369, 47.761, 35.008, 549], # Job 1 AWS\n",
    "        [34.563, 42.838, 32.797, 389.4], # Job 2 AWS\n",
    "        [26.996, 34.114, 31.777, 198] # Job 3 AWS\n",
    "    ]\n",
    "]"
   ]
  },
  {
   "cell_type": "code",
   "execution_count": 3,
   "metadata": {},
   "outputs": [],
   "source": [
    "machines = ['Local machine', 'AWS cluster']\n",
    "\n",
    "jobs = ['Job 1', 'Job 2', 'Job 3']\n",
    "\n",
    "X = np.arange(4)"
   ]
  },
  {
   "cell_type": "code",
   "execution_count": 13,
   "metadata": {},
   "outputs": [
    {
     "data": {
      "image/png": "[encoded data removed]",
      "text/plain": [
       "<Figure size 2520x1080 with 6 Axes>"
      ]
     },
     "metadata": {
      "needs_background": "light"
     },
     "output_type": "display_data"
    }
   ],
   "source": [
    "def running_time_comparison(machines, jobs, map_reduce_jobs_times, spark_jobs_times, hive_jobs_times):\n",
    "    '''\n",
    "   Create 6 charts (3 per row).\n",
    "   The first row is for jobs running times on local machine.\n",
    "   The second row is for jobs running times on AWS cluster.\n",
    "   '''\n",
    "    rows, cols = 2, 3\n",
    " \n",
    "    fig, ax = plt.subplots(rows, cols, sharex='col', sharey='row', figsize=(35, 15))\n",
    " \n",
    "    for row in range(2):\n",
    "        for col in range(3):\n",
    "            ax[row][col].bar(X + 0.00, map_reduce_jobs_times[row][col], color = 'blue', width = 0.25, align='center')\n",
    "            ax[row][col].bar(X + 0.25, spark_jobs_times[row][col], color = 'green', width = 0.25, align='center')\n",
    "            ax[row][col].bar(X + 0.50, hive_jobs_times[row][col], color = 'red', width = 0.25, align='center')\n",
    " \n",
    "            ax[row][col].legend(['Map Reduce', 'Spark', 'Hive'])\n",
    "            ax[row][col].set_xlabel('Dataset dimension')\n",
    "            ax[row][col].set_ylabel('Running time (seconds)')\n",
    "            ax[row][col].set_title('Running times comparison - {} - {}'.format(machines[row], jobs[col]))\n",
    "            ax[row][col].set_xticks(np.arange(4)+0.25)\n",
    "            ax[row][col].set_xticklabels(('1/3x', '1/2x', '1x', '3x'), fontdict=None, minor=False)\n",
    " \n",
    "    plt.show()\n",
    "    fig.savefig('big_data_jobs_running_time_comparison.png', bbox_inches='tight')\n",
    " \n",
    "running_time_comparison(machines, jobs, map_reduce_jobs_times, spark_jobs_times, hive_jobs_times)"
   ]
  },
  {
   "cell_type": "code",
   "execution_count": 14,
   "metadata": {
    "scrolled": false
   },
   "outputs": [
    {
     "data": {
      "image/png": "[encoded data removed]",
      "text/plain": [
       "<Figure size 2520x1080 with 6 Axes>"
      ]
     },
     "metadata": {
      "needs_background": "light"
     },
     "output_type": "display_data"
    }
   ],
   "source": [
    "def running_time_trends(machines, jobs, map_reduce_jobs_times, spark_jobs_times, hive_jobs_times):\n",
    "    '''\n",
    "   Create 6 charts (3 per row).\n",
    "   The first row is for jobs running times trend on local machine.\n",
    "   The second row is for jobs running times trend on AWS cluster.\n",
    "   '''\n",
    "    rows, cols = 2, 3\n",
    " \n",
    "    fig, ax = plt.subplots(rows, cols, sharex='col', sharey='row', figsize=(35, 15))\n",
    "     \n",
    "    for row in range(2):\n",
    "        for col in range(3):\n",
    "            ax[row][col].plot(X, map_reduce_jobs_times[row][col], color = 'blue')\n",
    "            ax[row][col].scatter(X, map_reduce_jobs_times[row][col], color = 'blue')\n",
    "            ax[row][col].plot(X, spark_jobs_times[row][col], color = 'green')\n",
    "            ax[row][col].scatter(X, spark_jobs_times[row][col], color = 'green')\n",
    "            ax[row][col].plot(X, hive_jobs_times[row][col], color = 'red')\n",
    "            ax[row][col].scatter(X, hive_jobs_times[row][col], color = 'red')\n",
    "           \n",
    "           \n",
    "            ax[row][col].legend(['Map Reduce', 'Spark', 'Hive'])\n",
    "            ax[row][col].set_xlabel('Dataset dimension')\n",
    "            ax[row][col].set_ylabel('Running time (seconds)')\n",
    "            ax[row][col].set_title('Running times trend - {} - {}'.format(machines[row], jobs[col]))\n",
    "            ax[row][col].set_xticks(np.arange(4))\n",
    "            ax[row][col].set_xticklabels(('1/3x', '1/2x', '1x', '3x'), fontdict=None, minor=False)\n",
    " \n",
    "    plt.show()\n",
    "    fig.savefig('big_data_jobs_running_time_trends.png', bbox_inches='tight')\n",
    " \n",
    "running_time_trends(machines, jobs, map_reduce_jobs_times, spark_jobs_times, hive_jobs_times)"
   ]
  },
  {
   "cell_type": "markdown",
   "metadata": {},
   "source": [
    "# 6. Conclusions"
   ]
  },
  {
   "cell_type": "markdown",
   "metadata": {},
   "source": [
    "### Job 1"
   ]
  },
  {
   "cell_type": "markdown",
   "metadata": {},
   "source": [
    "We can note that locally the execution times of the Hive and Spark paradigms are comparable, while there is a reduction in the execution time of the Map Reduce paradigm.\n",
    "It can also be noted that as the size of the dataset grows, all three paradigms assume an exponential behavior, in particular there is a significant increase in the execution time when the dataset has been tripled.\n",
    "\n",
    "As far as cluster execution is concerned, we can see how the execution time of the Hive paradigm by far detaches the execution times of Spark and Map Reduce, especially in the presence of the tripled dataset.\n",
    "Instead, Spark's run time is kept constant even when the dataset is tripled, making it the most efficient paradigm."
   ]
  },
  {
   "cell_type": "markdown",
   "metadata": {},
   "source": [
    "### Job 2"
   ]
  },
  {
   "cell_type": "markdown",
   "metadata": {},
   "source": [
    "We can note that both in local and on clusters, the behavior of the three paradigms is very similar to the progress of job 1, with the difference, however, that on clusters we have a reduction in execution times."
   ]
  },
  {
   "cell_type": "markdown",
   "metadata": {},
   "source": [
    "### Job 3"
   ]
  },
  {
   "cell_type": "markdown",
   "metadata": {},
   "source": [
    "Here too, as in job 2, both locally and on clusters, we can notice a similarity of the curves with the previous ones, with the difference that there is a clear reduction in the execution times (about half)."
   ]
  }
 ],
 "metadata": {
  "kernelspec": {
   "display_name": "Python 3",
   "language": "python",
   "name": "python3"
  },
  "language_info": {
   "codemirror_mode": {
    "name": "ipython",
    "version": 3
   },
   "file_extension": ".py",
   "mimetype": "text/x-python",
   "name": "python",
   "nbconvert_exporter": "python",
   "pygments_lexer": "ipython3",
   "version": "3.7.6"
  }
 },
 "nbformat": 4,
 "nbformat_minor": 2
}
